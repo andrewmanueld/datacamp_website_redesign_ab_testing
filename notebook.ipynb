{
 "cells": [
  {
   "cell_type": "markdown",
   "metadata": {},
   "source": [
    "# Was a website redesign successful?"
   ]
  },
  {
   "cell_type": "markdown",
   "metadata": {},
   "source": [
    "### Background\n",
    "\n",
    "You work for an early-stage startup in Germany. Your team has been working on a redesign of the landing page. The team believes a new design will increase the number of people who click through and join your site. \n",
    "\n",
    "They have been testing the changes for a few weeks, and now they want to measure the impact of the change and need you to determine if the increase can be due to random chance or if it is statistically significant.\n",
    "\n",
    "The competition can access from [here](https://app.datacamp.com/learn/competitions/webpage-redesign-test) (*login are required*)"
   ]
  },
  {
   "cell_type": "markdown",
   "metadata": {},
   "source": [
    "### Task\n",
    "- Analyze the conversion rates for each of the four groups: the new/old design of the landing page and the new/old pictures.\n",
    "- Can the increases observed be explained by randomness? (Hint: Think A/B test)\n",
    "- Which version of the website should they use?"
   ]
  },
  {
   "cell_type": "markdown",
   "metadata": {},
   "source": [
    "### Work list\n",
    "\n",
    "There are some Work list we need to complete as follows:\n",
    "\n",
    "1. Importing dataset\n",
    "2. Exploratory Data Analysis (EDA)\n",
    "3. Data cleansing & wrangling\n",
    "4. Hypotesis analysis\n",
    "5. Sampling data\n",
    "6. Testing hypotesis\n",
    "7. Conclusion"
   ]
  },
  {
   "cell_type": "markdown",
   "metadata": {},
   "source": [
    "### 1. Importing Dataset\n",
    "\n",
    "First we need to import some library. Next we will to check the folder that contains dataset and import the dataset into df variable (DataFrame)"
   ]
  },
  {
   "cell_type": "code",
   "execution_count": 94,
   "metadata": {},
   "outputs": [],
   "source": [
    "import os \n",
    "import math \n",
    "import pandas as pd "
   ]
  },
  {
   "cell_type": "code",
   "execution_count": 95,
   "metadata": {},
   "outputs": [
    {
     "data": {
      "text/plain": [
       "['redesign.csv']"
      ]
     },
     "execution_count": 95,
     "metadata": {},
     "output_type": "execute_result"
    }
   ],
   "source": [
    "os.listdir('./data')"
   ]
  },
  {
   "cell_type": "code",
   "execution_count": 96,
   "metadata": {},
   "outputs": [
    {
     "data": {
      "text/html": [
       "<div>\n",
       "<style scoped>\n",
       "    .dataframe tbody tr th:only-of-type {\n",
       "        vertical-align: middle;\n",
       "    }\n",
       "\n",
       "    .dataframe tbody tr th {\n",
       "        vertical-align: top;\n",
       "    }\n",
       "\n",
       "    .dataframe thead th {\n",
       "        text-align: right;\n",
       "    }\n",
       "</style>\n",
       "<table border=\"1\" class=\"dataframe\">\n",
       "  <thead>\n",
       "    <tr style=\"text-align: right;\">\n",
       "      <th></th>\n",
       "      <th>treatment</th>\n",
       "      <th>new_images</th>\n",
       "      <th>converted</th>\n",
       "    </tr>\n",
       "  </thead>\n",
       "  <tbody>\n",
       "    <tr>\n",
       "      <th>0</th>\n",
       "      <td>yes</td>\n",
       "      <td>yes</td>\n",
       "      <td>0</td>\n",
       "    </tr>\n",
       "    <tr>\n",
       "      <th>1</th>\n",
       "      <td>yes</td>\n",
       "      <td>yes</td>\n",
       "      <td>0</td>\n",
       "    </tr>\n",
       "    <tr>\n",
       "      <th>2</th>\n",
       "      <td>yes</td>\n",
       "      <td>yes</td>\n",
       "      <td>0</td>\n",
       "    </tr>\n",
       "    <tr>\n",
       "      <th>3</th>\n",
       "      <td>yes</td>\n",
       "      <td>no</td>\n",
       "      <td>0</td>\n",
       "    </tr>\n",
       "    <tr>\n",
       "      <th>4</th>\n",
       "      <td>no</td>\n",
       "      <td>yes</td>\n",
       "      <td>0</td>\n",
       "    </tr>\n",
       "  </tbody>\n",
       "</table>\n",
       "</div>"
      ],
      "text/plain": [
       "  treatment new_images  converted\n",
       "0       yes        yes          0\n",
       "1       yes        yes          0\n",
       "2       yes        yes          0\n",
       "3       yes         no          0\n",
       "4        no        yes          0"
      ]
     },
     "execution_count": 96,
     "metadata": {},
     "output_type": "execute_result"
    }
   ],
   "source": [
    "df = pd.read_csv('./data/redesign.csv', delimiter=',')\n",
    "\n",
    "df.head()"
   ]
  },
  {
   "cell_type": "markdown",
   "metadata": {},
   "source": [
    "### 2. Exploratory Data Analysis (EDA)\n",
    "\n",
    "Let's get some information about data. Check the datatype of each feature and possibility of null value"
   ]
  },
  {
   "cell_type": "markdown",
   "metadata": {},
   "source": [
    "#### 2.1 General Information"
   ]
  },
  {
   "cell_type": "code",
   "execution_count": 97,
   "metadata": {},
   "outputs": [
    {
     "name": "stdout",
     "output_type": "stream",
     "text": [
      "<class 'pandas.core.frame.DataFrame'>\n",
      "RangeIndex: 40484 entries, 0 to 40483\n",
      "Data columns (total 3 columns):\n",
      " #   Column      Non-Null Count  Dtype \n",
      "---  ------      --------------  ----- \n",
      " 0   treatment   40484 non-null  object\n",
      " 1   new_images  40484 non-null  object\n",
      " 2   converted   40484 non-null  int64 \n",
      "dtypes: int64(1), object(2)\n",
      "memory usage: 949.0+ KB\n"
     ]
    }
   ],
   "source": [
    "df.info()"
   ]
  },
  {
   "cell_type": "markdown",
   "metadata": {},
   "source": [
    "#### 2.2 Unique Value\n",
    "\n",
    "From the information above we sure that dataset are not contains any null value. Check unique value of each column to make sure there are no labels other than 'yes' and 'no'"
   ]
  },
  {
   "cell_type": "code",
   "execution_count": 98,
   "metadata": {},
   "outputs": [
    {
     "data": {
      "text/plain": [
       "array(['yes', 'no'], dtype=object)"
      ]
     },
     "execution_count": 98,
     "metadata": {},
     "output_type": "execute_result"
    }
   ],
   "source": [
    "df.treatment.unique()"
   ]
  },
  {
   "cell_type": "code",
   "execution_count": 99,
   "metadata": {},
   "outputs": [
    {
     "data": {
      "text/plain": [
       "array(['yes', 'no'], dtype=object)"
      ]
     },
     "execution_count": 99,
     "metadata": {},
     "output_type": "execute_result"
    }
   ],
   "source": [
    "df.new_images.unique()"
   ]
  },
  {
   "cell_type": "code",
   "execution_count": 100,
   "metadata": {},
   "outputs": [
    {
     "data": {
      "text/plain": [
       "array([0, 1], dtype=int64)"
      ]
     },
     "execution_count": 100,
     "metadata": {},
     "output_type": "execute_result"
    }
   ],
   "source": [
    "df.converted.unique()"
   ]
  },
  {
   "cell_type": "markdown",
   "metadata": {},
   "source": [
    "Below are means of each column value:\n",
    "\n",
    "1. If **'treatment'** column data values equals with **1** it means the data is part of **treatment group** or **test group**, **0** means **control group**\n",
    "2. If **'new_images'** column data values equals with **1** it means page already implementing **new images** else means **old images**\n",
    "3. If **'converted'** value is **1** it means users already joined the site, otherwise is **0**"
   ]
  },
  {
   "cell_type": "code",
   "execution_count": 101,
   "metadata": {},
   "outputs": [],
   "source": [
    "import matplotlib.pyplot as plt \n",
    "import seaborn as sns \n",
    " \n",
    "sns.set()"
   ]
  },
  {
   "cell_type": "code",
   "execution_count": 102,
   "metadata": {},
   "outputs": [
    {
     "data": {
      "text/plain": [
       "Text(0, 0.5, 'size of data')"
      ]
     },
     "execution_count": 102,
     "metadata": {},
     "output_type": "execute_result"
    },
    {
     "data": {
      "image/png": "[encoded data removed]",
      "text/plain": [
       "<Figure size 1008x576 with 1 Axes>"
      ]
     },
     "metadata": {},
     "output_type": "display_data"
    }
   ],
   "source": [
    "fig, ax = plt.subplots(figsize=(14,8))\n",
    "\n",
    "sns.barplot(x=df.treatment.value_counts().index, y=df.treatment.value_counts(), ax=ax)\n",
    "\n",
    "plt.title('Control VS Treatment Group')\n",
    "plt.xlabel('0 (control) - 1 (treatment)')\n",
    "plt.ylabel('size of data')"
   ]
  },
  {
   "cell_type": "code",
   "execution_count": 103,
   "metadata": {},
   "outputs": [
    {
     "data": {
      "text/plain": [
       "Text(0, 0.5, 'size of data')"
      ]
     },
     "execution_count": 103,
     "metadata": {},
     "output_type": "execute_result"
    },
    {
     "data": {
      "image/png": "[encoded data removed]",
      "text/plain": [
       "<Figure size 1008x576 with 1 Axes>"
      ]
     },
     "metadata": {},
     "output_type": "display_data"
    }
   ],
   "source": [
    "fig, ax = plt.subplots(figsize=(14,8))\n",
    "\n",
    "sns.barplot(x=df.new_images.value_counts().index, y=df.new_images.value_counts(), ax=ax)\n",
    "\n",
    "plt.title('Old VS New Images')\n",
    "plt.xlabel('0 (old) - 1 (new)')\n",
    "plt.ylabel('size of data')"
   ]
  },
  {
   "cell_type": "code",
   "execution_count": 104,
   "metadata": {},
   "outputs": [
    {
     "data": {
      "text/plain": [
       "Text(0, 0.5, 'size of data')"
      ]
     },
     "execution_count": 104,
     "metadata": {},
     "output_type": "execute_result"
    },
    {
     "data": {
      "image/png": "[encoded data removed]",
      "text/plain": [
       "<Figure size 1008x576 with 1 Axes>"
      ]
     },
     "metadata": {},
     "output_type": "display_data"
    }
   ],
   "source": [
    "fig, ax = plt.subplots(figsize=(14,8))\n",
    "\n",
    "sns.barplot(x=df.converted.value_counts().index, y=df.converted.value_counts(), ax=ax)\n",
    "\n",
    "plt.title('Page Conversion')\n",
    "plt.xlabel('0 (old) - 1 (new)')\n",
    "plt.ylabel('size of data')"
   ]
  },
  {
   "cell_type": "markdown",
   "metadata": {},
   "source": [
    "### 3. Data Cleansing & Wrangling\n",
    "\n",
    "Next our objective to convert 'treatment' and 'new_images' column from object into int64 datatype"
   ]
  },
  {
   "cell_type": "code",
   "execution_count": 105,
   "metadata": {},
   "outputs": [],
   "source": [
    "df = df.replace({'yes': 1, 'no': 0})"
   ]
  },
  {
   "cell_type": "code",
   "execution_count": 106,
   "metadata": {},
   "outputs": [
    {
     "data": {
      "text/html": [
       "<div>\n",
       "<style scoped>\n",
       "    .dataframe tbody tr th:only-of-type {\n",
       "        vertical-align: middle;\n",
       "    }\n",
       "\n",
       "    .dataframe tbody tr th {\n",
       "        vertical-align: top;\n",
       "    }\n",
       "\n",
       "    .dataframe thead th {\n",
       "        text-align: right;\n",
       "    }\n",
       "</style>\n",
       "<table border=\"1\" class=\"dataframe\">\n",
       "  <thead>\n",
       "    <tr style=\"text-align: right;\">\n",
       "      <th></th>\n",
       "      <th>treatment</th>\n",
       "      <th>new_images</th>\n",
       "      <th>converted</th>\n",
       "    </tr>\n",
       "  </thead>\n",
       "  <tbody>\n",
       "    <tr>\n",
       "      <th>0</th>\n",
       "      <td>1</td>\n",
       "      <td>1</td>\n",
       "      <td>0</td>\n",
       "    </tr>\n",
       "    <tr>\n",
       "      <th>1</th>\n",
       "      <td>1</td>\n",
       "      <td>1</td>\n",
       "      <td>0</td>\n",
       "    </tr>\n",
       "    <tr>\n",
       "      <th>2</th>\n",
       "      <td>1</td>\n",
       "      <td>1</td>\n",
       "      <td>0</td>\n",
       "    </tr>\n",
       "    <tr>\n",
       "      <th>3</th>\n",
       "      <td>1</td>\n",
       "      <td>0</td>\n",
       "      <td>0</td>\n",
       "    </tr>\n",
       "    <tr>\n",
       "      <th>4</th>\n",
       "      <td>0</td>\n",
       "      <td>1</td>\n",
       "      <td>0</td>\n",
       "    </tr>\n",
       "  </tbody>\n",
       "</table>\n",
       "</div>"
      ],
      "text/plain": [
       "   treatment  new_images  converted\n",
       "0          1           1          0\n",
       "1          1           1          0\n",
       "2          1           1          0\n",
       "3          1           0          0\n",
       "4          0           1          0"
      ]
     },
     "execution_count": 106,
     "metadata": {},
     "output_type": "execute_result"
    }
   ],
   "source": [
    "df.head()"
   ]
  },
  {
   "cell_type": "markdown",
   "metadata": {},
   "source": [
    "### 4. Hypotesis Analysis"
   ]
  },
  {
   "cell_type": "markdown",
   "metadata": {},
   "source": [
    "#### 4.1 Conversion Rate\n",
    "\n",
    "So far we dont perform any calculation for conversion rate. Let's make some calculation of conversion rate for 4 kind of group, old page, new page, old image and new image"
   ]
  },
  {
   "cell_type": "code",
   "execution_count": 107,
   "metadata": {},
   "outputs": [
    {
     "name": "stdout",
     "output_type": "stream",
     "text": [
      "Old page conversion rate : 88.66%\n",
      "New page conversion rate : 11.34%\n",
      "Old images conversion rate : 50.00%\n",
      "New images conversion rate : 50.00%\n"
     ]
    }
   ],
   "source": [
    "row_size = df.shape[0] \n",
    "\n",
    "old_page_cr = df[df.converted == 0].shape[0] / row_size\n",
    "new_page_cr = df[df.converted == 1].shape[0] / row_size\n",
    "old_images_cr = df[df.new_images == 0].shape[0] / row_size\n",
    "new_images_cr = df[df.new_images == 1].shape[0] / row_size\n",
    "\n",
    "print('Old page conversion rate : %.2f%%' % (old_page_cr * 100))\n",
    "print('New page conversion rate : %.2f%%' % (new_page_cr * 100))\n",
    "print('Old images conversion rate : %.2f%%' % (old_images_cr * 100))\n",
    "print('New images conversion rate : %.2f%%' % (new_images_cr * 100))"
   ]
  },
  {
   "cell_type": "markdown",
   "metadata": {},
   "source": [
    "#### 4.2 Possibility for Increasing Conversion Rate\n",
    "\n",
    "Since our new page conversion rate is 11.34%, we now try to assumed that conversion rate can be increased by 2%"
   ]
  },
  {
   "cell_type": "code",
   "execution_count": 108,
   "metadata": {},
   "outputs": [
    {
     "name": "stdout",
     "output_type": "stream",
     "text": [
      "New conversion rate of new page : 13.34%\n"
     ]
    }
   ],
   "source": [
    "new_cr = round(new_page_cr + (2 / 100), 4)\n",
    "\n",
    "print('New conversion rate of new page : %.2f%%' % (new_cr * 100))"
   ]
  },
  {
   "cell_type": "markdown",
   "metadata": {},
   "source": [
    "#### 4.3 Hypotesis\n",
    "\n",
    "We assumed that conversion rate can be increased by 2%. It seems realistic ? we can perform two-tailed test as kind of Null hypotesis (denoted as **$H_0$**) to check that possiblity.\n",
    "\n",
    "Let's define our hypotesis as follows:\n",
    " - **$H_0$** : Our new design significantly increased by 2%\n",
    " - **$H_1$** : Our new design not significantly increased by 2%\n",
    "\n",
    "To perform hypotesis test, there are some term we might know first:\n",
    " - **Confidence interval** : the number of probability that indicates our result statistically confident. We can set confidence interval by 95%\n",
    " - **$p$-value** : the probability that difference between the two values is just because of random chance. If the score less than 0.05 we can reject the null hypotesis\n",
    " - **Significance value** : denoted as **$a$** the probability to reject null hypotesis\n",
    " - **Power of the test** : (1 - $\\beta$) the probability of finding a statistical difference between the groups in our test when a difference is actually present. Commonly set to 0.8\n",
    " - **Effect size** : The difference of our convension rate and expectation score"
   ]
  },
  {
   "cell_type": "markdown",
   "metadata": {},
   "source": [
    "### 5. Sampling Data"
   ]
  },
  {
   "cell_type": "markdown",
   "metadata": {},
   "source": [
    "#### 5.1 Resampling data\n",
    "We need to find the number of sample that fit with our case by calculating effect size and perform power calculation"
   ]
  },
  {
   "cell_type": "code",
   "execution_count": 109,
   "metadata": {},
   "outputs": [
    {
     "name": "stdout",
     "output_type": "stream",
     "text": [
      "Current conversion rate : 11.34% \n",
      "Target conversion rate : 13.34% \n",
      "Number of required sample : 4218 \n"
     ]
    }
   ],
   "source": [
    "from statsmodels.stats.api import proportion_effectsize\n",
    "from statsmodels.stats.api import NormalIndPower\n",
    "\n",
    "effect_size = proportion_effectsize(new_page_cr, new_cr)\n",
    "\n",
    "n_sample = NormalIndPower().solve_power(\n",
    "    effect_size=effect_size,\n",
    "    alpha=0.05,\n",
    "    power=0.8\n",
    ")\n",
    "\n",
    "n_sample = round(n_sample)\n",
    "\n",
    "print('Current conversion rate : %.2f%% ' % (new_page_cr * 100))\n",
    "print('Target conversion rate : %.2f%% ' % (new_cr * 100))\n",
    "print('Number of required sample : %d ' % (n_sample))"
   ]
  },
  {
   "cell_type": "markdown",
   "metadata": {},
   "source": [
    "Get random sample for **treatment** and **control group** using **'n_sample'** variable as number of random sample data"
   ]
  },
  {
   "cell_type": "code",
   "execution_count": 110,
   "metadata": {},
   "outputs": [],
   "source": [
    "treatment = df[df.treatment == 1].sample(n=n_sample) \n",
    "control = df[df.treatment == 0].sample(n=n_sample)"
   ]
  },
  {
   "cell_type": "code",
   "execution_count": 111,
   "metadata": {},
   "outputs": [
    {
     "data": {
      "text/html": [
       "<div>\n",
       "<style scoped>\n",
       "    .dataframe tbody tr th:only-of-type {\n",
       "        vertical-align: middle;\n",
       "    }\n",
       "\n",
       "    .dataframe tbody tr th {\n",
       "        vertical-align: top;\n",
       "    }\n",
       "\n",
       "    .dataframe thead th {\n",
       "        text-align: right;\n",
       "    }\n",
       "</style>\n",
       "<table border=\"1\" class=\"dataframe\">\n",
       "  <thead>\n",
       "    <tr style=\"text-align: right;\">\n",
       "      <th></th>\n",
       "      <th>treatment</th>\n",
       "      <th>new_images</th>\n",
       "      <th>converted</th>\n",
       "    </tr>\n",
       "  </thead>\n",
       "  <tbody>\n",
       "    <tr>\n",
       "      <th>22228</th>\n",
       "      <td>1</td>\n",
       "      <td>1</td>\n",
       "      <td>0</td>\n",
       "    </tr>\n",
       "    <tr>\n",
       "      <th>25548</th>\n",
       "      <td>1</td>\n",
       "      <td>0</td>\n",
       "      <td>0</td>\n",
       "    </tr>\n",
       "    <tr>\n",
       "      <th>7268</th>\n",
       "      <td>1</td>\n",
       "      <td>0</td>\n",
       "      <td>0</td>\n",
       "    </tr>\n",
       "    <tr>\n",
       "      <th>31101</th>\n",
       "      <td>1</td>\n",
       "      <td>1</td>\n",
       "      <td>0</td>\n",
       "    </tr>\n",
       "    <tr>\n",
       "      <th>22925</th>\n",
       "      <td>1</td>\n",
       "      <td>0</td>\n",
       "      <td>1</td>\n",
       "    </tr>\n",
       "  </tbody>\n",
       "</table>\n",
       "</div>"
      ],
      "text/plain": [
       "       treatment  new_images  converted\n",
       "22228          1           1          0\n",
       "25548          1           0          0\n",
       "7268           1           0          0\n",
       "31101          1           1          0\n",
       "22925          1           0          1"
      ]
     },
     "execution_count": 111,
     "metadata": {},
     "output_type": "execute_result"
    }
   ],
   "source": [
    "treatment.head()"
   ]
  },
  {
   "cell_type": "code",
   "execution_count": 112,
   "metadata": {},
   "outputs": [
    {
     "data": {
      "text/html": [
       "<div>\n",
       "<style scoped>\n",
       "    .dataframe tbody tr th:only-of-type {\n",
       "        vertical-align: middle;\n",
       "    }\n",
       "\n",
       "    .dataframe tbody tr th {\n",
       "        vertical-align: top;\n",
       "    }\n",
       "\n",
       "    .dataframe thead th {\n",
       "        text-align: right;\n",
       "    }\n",
       "</style>\n",
       "<table border=\"1\" class=\"dataframe\">\n",
       "  <thead>\n",
       "    <tr style=\"text-align: right;\">\n",
       "      <th></th>\n",
       "      <th>treatment</th>\n",
       "      <th>new_images</th>\n",
       "      <th>converted</th>\n",
       "    </tr>\n",
       "  </thead>\n",
       "  <tbody>\n",
       "    <tr>\n",
       "      <th>684</th>\n",
       "      <td>0</td>\n",
       "      <td>0</td>\n",
       "      <td>0</td>\n",
       "    </tr>\n",
       "    <tr>\n",
       "      <th>9429</th>\n",
       "      <td>0</td>\n",
       "      <td>0</td>\n",
       "      <td>0</td>\n",
       "    </tr>\n",
       "    <tr>\n",
       "      <th>25664</th>\n",
       "      <td>0</td>\n",
       "      <td>0</td>\n",
       "      <td>0</td>\n",
       "    </tr>\n",
       "    <tr>\n",
       "      <th>27550</th>\n",
       "      <td>0</td>\n",
       "      <td>0</td>\n",
       "      <td>0</td>\n",
       "    </tr>\n",
       "    <tr>\n",
       "      <th>327</th>\n",
       "      <td>0</td>\n",
       "      <td>0</td>\n",
       "      <td>0</td>\n",
       "    </tr>\n",
       "  </tbody>\n",
       "</table>\n",
       "</div>"
      ],
      "text/plain": [
       "       treatment  new_images  converted\n",
       "684            0           0          0\n",
       "9429           0           0          0\n",
       "25664          0           0          0\n",
       "27550          0           0          0\n",
       "327            0           0          0"
      ]
     },
     "execution_count": 112,
     "metadata": {},
     "output_type": "execute_result"
    }
   ],
   "source": [
    "control.head()"
   ]
  },
  {
   "cell_type": "markdown",
   "metadata": {},
   "source": [
    "#### 5.2 Grouping data"
   ]
  },
  {
   "cell_type": "code",
   "execution_count": 113,
   "metadata": {},
   "outputs": [
    {
     "data": {
      "text/html": [
       "<div>\n",
       "<style scoped>\n",
       "    .dataframe tbody tr th:only-of-type {\n",
       "        vertical-align: middle;\n",
       "    }\n",
       "\n",
       "    .dataframe tbody tr th {\n",
       "        vertical-align: top;\n",
       "    }\n",
       "\n",
       "    .dataframe thead th {\n",
       "        text-align: right;\n",
       "    }\n",
       "</style>\n",
       "<table border=\"1\" class=\"dataframe\">\n",
       "  <thead>\n",
       "    <tr style=\"text-align: right;\">\n",
       "      <th></th>\n",
       "      <th>index</th>\n",
       "      <th>treatment</th>\n",
       "      <th>new_images</th>\n",
       "      <th>converted</th>\n",
       "    </tr>\n",
       "  </thead>\n",
       "  <tbody>\n",
       "    <tr>\n",
       "      <th>0</th>\n",
       "      <td>22228</td>\n",
       "      <td>1</td>\n",
       "      <td>1</td>\n",
       "      <td>0</td>\n",
       "    </tr>\n",
       "    <tr>\n",
       "      <th>1</th>\n",
       "      <td>25548</td>\n",
       "      <td>1</td>\n",
       "      <td>0</td>\n",
       "      <td>0</td>\n",
       "    </tr>\n",
       "    <tr>\n",
       "      <th>2</th>\n",
       "      <td>7268</td>\n",
       "      <td>1</td>\n",
       "      <td>0</td>\n",
       "      <td>0</td>\n",
       "    </tr>\n",
       "    <tr>\n",
       "      <th>3</th>\n",
       "      <td>31101</td>\n",
       "      <td>1</td>\n",
       "      <td>1</td>\n",
       "      <td>0</td>\n",
       "    </tr>\n",
       "    <tr>\n",
       "      <th>4</th>\n",
       "      <td>22925</td>\n",
       "      <td>1</td>\n",
       "      <td>0</td>\n",
       "      <td>1</td>\n",
       "    </tr>\n",
       "  </tbody>\n",
       "</table>\n",
       "</div>"
      ],
      "text/plain": [
       "   index  treatment  new_images  converted\n",
       "0  22228          1           1          0\n",
       "1  25548          1           0          0\n",
       "2   7268          1           0          0\n",
       "3  31101          1           1          0\n",
       "4  22925          1           0          1"
      ]
     },
     "execution_count": 113,
     "metadata": {},
     "output_type": "execute_result"
    }
   ],
   "source": [
    "ab_test = pd.concat([treatment, control]).reset_index()\n",
    "\n",
    "ab_test.head()"
   ]
  },
  {
   "cell_type": "code",
   "execution_count": 114,
   "metadata": {},
   "outputs": [
    {
     "data": {
      "text/html": [
       "<div>\n",
       "<style scoped>\n",
       "    .dataframe tbody tr th:only-of-type {\n",
       "        vertical-align: middle;\n",
       "    }\n",
       "\n",
       "    .dataframe tbody tr th {\n",
       "        vertical-align: top;\n",
       "    }\n",
       "\n",
       "    .dataframe thead th {\n",
       "        text-align: right;\n",
       "    }\n",
       "</style>\n",
       "<table border=\"1\" class=\"dataframe\">\n",
       "  <thead>\n",
       "    <tr style=\"text-align: right;\">\n",
       "      <th></th>\n",
       "      <th>treatment</th>\n",
       "      <th>mean</th>\n",
       "      <th>standard_deviation</th>\n",
       "      <th>standard_error</th>\n",
       "    </tr>\n",
       "  </thead>\n",
       "  <tbody>\n",
       "    <tr>\n",
       "      <th>0</th>\n",
       "      <td>0</td>\n",
       "      <td>0.108345</td>\n",
       "      <td>0.310853</td>\n",
       "      <td>0.004786</td>\n",
       "    </tr>\n",
       "    <tr>\n",
       "      <th>1</th>\n",
       "      <td>1</td>\n",
       "      <td>0.114746</td>\n",
       "      <td>0.318753</td>\n",
       "      <td>0.004908</td>\n",
       "    </tr>\n",
       "  </tbody>\n",
       "</table>\n",
       "</div>"
      ],
      "text/plain": [
       "   treatment      mean  standard_deviation  standard_error\n",
       "0          0  0.108345            0.310853        0.004786\n",
       "1          1  0.114746            0.318753        0.004908"
      ]
     },
     "execution_count": 114,
     "metadata": {},
     "output_type": "execute_result"
    }
   ],
   "source": [
    "import numpy as np\n",
    "from scipy.stats import sem\n",
    "\n",
    "metrics = ab_test.groupby('treatment')['converted']\n",
    "\n",
    "metrics = metrics.agg([np.mean, np.std, sem])\n",
    "\n",
    "metrics.columns = ['mean', 'standard_deviation', 'standard_error']\n",
    "\n",
    "metrics.reset_index()"
   ]
  },
  {
   "cell_type": "markdown",
   "metadata": {},
   "source": [
    "### 6. Testing Hypotesis\n",
    "Find the p-value to testing the null hypotesis and min-max value of each group by 95% confidence interval"
   ]
  },
  {
   "cell_type": "code",
   "execution_count": 115,
   "metadata": {},
   "outputs": [
    {
     "name": "stdout",
     "output_type": "stream",
     "text": [
      "z score : -0.933795 \n",
      "p-value : 0.350410\n",
      "Control 95% confidence interval :  [9.90%, 11.77%]\n",
      "Treatment 95% confidence interval :  [10.51%, 12.44%]\n"
     ]
    }
   ],
   "source": [
    "from statsmodels.stats.api import proportions_ztest\n",
    "from statsmodels.stats.api import proportion_confint\n",
    "\n",
    "control_res = ab_test[ab_test.treatment == 0]['converted']\n",
    "treatment_res = ab_test[ab_test.treatment == 1]['converted']\n",
    "\n",
    "sum = [control_res.sum(), treatment_res.sum()]\n",
    "nobs = [control_res.count(), treatment_res.count()]\n",
    "\n",
    "z_score, p_val = proportions_ztest(sum, nobs=nobs)\n",
    "(min_control, min_treatment), (max_control, max_treatment) = proportion_confint(sum, nobs=nobs)\n",
    "\n",
    "print('z score : %f \\np-value : %f' % (z_score, p_val))\n",
    "print('Control 95%% confidence interval :  [%.2f%%, %.2f%%]' % (min_control * 100, max_control * 100))\n",
    "print('Treatment 95%% confidence interval :  [%.2f%%, %.2f%%]' % (min_treatment * 100, max_treatment * 100))"
   ]
  },
  {
   "cell_type": "markdown",
   "metadata": {},
   "source": [
    "### 7. Conclusion\n",
    "After the proccess below, we can conclude that:\n",
    "\n",
    "1. Conversion rate by group\n",
    " - Old page conversion rate : 88.66%\n",
    " - New page conversion rate : 11.34%\n",
    " - Old images conversion rate : 50.00%\n",
    " - New images conversion rate : 50.00%\n",
    "2. Conversion rate of new page : 11.34%\n",
    "3. Due the number of p-value (0.35041) below our treeshold ($a$ = 0.05), we can statistically can reject the null hypotesis. It means that our new page design not increased by 2%. But by 95% confidence interval our new page conversion rate about 10.51% - 12.44%"
   ]
  },
  {
   "cell_type": "markdown",
   "metadata": {},
   "source": [
    "*Reference*\n",
    "\n",
    "- [A/B testing: A step-by-step guide in Python](https://towardsdatascience.com/ab-testing-with-python-e5964dd66143) - *Renato Fillinich (Towards Data Science)*\n",
    "- [Null hypotesis](https://en.wikipedia.org/wiki/Null_hypothesis) - *wikipedia*\n",
    "- [A/B Testing for Data Science using Python – A Must-Read Guide for Data Scientists](https://www.analyticsvidhya.com/blog/2020/10/ab-testing-data-science/) - *analytics vidhya*"
   ]
  }
 ],
 "metadata": {
  "interpreter": {
   "hash": "69bd05188d8e1a6303668afdba3e42a2c11231d2bb333df425bbee993fd0d7a1"
  },
  "kernelspec": {
   "display_name": "Python 3.7.9 64-bit",
   "language": "python",
   "name": "python3"
  },
  "language_info": {
   "codemirror_mode": {
    "name": "ipython",
    "version": 3
   },
   "file_extension": ".py",
   "mimetype": "text/x-python",
   "name": "python",
   "nbconvert_exporter": "python",
   "pygments_lexer": "ipython3",
   "version": "3.7.9"
  },
  "orig_nbformat": 4
 },
 "nbformat": 4,
 "nbformat_minor": 2
}
